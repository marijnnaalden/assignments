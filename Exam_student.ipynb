{
 "cells": [
  {
   "cell_type": "markdown",
   "metadata": {},
   "source": [
    "# Exam R\n",
    "Mark Klik & Misja Mikkers\n",
    "\n",
    "# Introduction\n",
    "\n",
    "The exam consists of 2 parts. In the first part, you have to run a regression, test if the assumptions of a linear regression model are met, and make 2 graphs.\n",
    "\n",
    "In the second part of the exam, you will have to make a map of Catholic and Protestant schools in the Netherlands.\n",
    "\n",
    "# Packages\n"
   ]
  },
  {
   "cell_type": "code",
   "execution_count": 4,
   "metadata": {},
   "outputs": [
    {
     "name": "stdout",
     "output_type": "stream",
     "text": [
      "package 'gvlma' successfully unpacked and MD5 sums checked\n",
      "\n",
      "The downloaded binary packages are in\n",
      "\tC:\\Users\\mrmbn_000\\AppData\\Local\\Temp\\RtmpUpJoIr\\downloaded_packages\n"
     ]
    },
    {
     "name": "stderr",
     "output_type": "stream",
     "text": [
      "-- Attaching packages --------------------------------------- tidyverse 1.2.1 --\n",
      "v ggplot2 2.2.1     v purrr   0.2.4\n",
      "v tibble  1.4.1     v dplyr   0.7.4\n",
      "v tidyr   0.7.2     v stringr 1.2.0\n",
      "v readr   1.1.1     v forcats 0.2.0\n",
      "-- Conflicts ------------------------------------------ tidyverse_conflicts() --\n",
      "x dplyr::filter() masks stats::filter()\n",
      "x dplyr::lag()    masks stats::lag()\n"
     ]
    }
   ],
   "source": [
    "install.packages('gvlma', repos='http://cran.us.r-project.org')\n",
    "library(tidyverse)\n",
    "library(gvlma)"
   ]
  },
  {
   "cell_type": "markdown",
   "metadata": {},
   "source": [
    "# Assignment 1\n",
    "\n",
    "\n",
    "## Data\n",
    "\n",
    "The data are given:\n"
   ]
  },
  {
   "cell_type": "code",
   "execution_count": 5,
   "metadata": {},
   "outputs": [
    {
     "data": {
      "text/html": [
       "<table>\n",
       "<thead><tr><th scope=col>V1</th><th scope=col>epsilon</th><th scope=col>response</th><th scope=col>group</th></tr></thead>\n",
       "<tbody>\n",
       "\t<tr><td>3.588198  </td><td>-3.3733866</td><td> -7.549782</td><td>1         </td></tr>\n",
       "\t<tr><td>8.094746  </td><td> 1.6755741</td><td>-11.513918</td><td>2         </td></tr>\n",
       "\t<tr><td>4.680792  </td><td> 0.3067462</td><td> -6.054838</td><td>1         </td></tr>\n",
       "\t<tr><td>8.947157  </td><td>-2.2762739</td><td>-17.170587</td><td>2         </td></tr>\n",
       "\t<tr><td>9.464206  </td><td> 2.5076298</td><td>-13.420781</td><td>2         </td></tr>\n",
       "\t<tr><td>1.410008  </td><td> 0.8529284</td><td>  1.032911</td><td>1         </td></tr>\n",
       "</tbody>\n",
       "</table>\n"
      ],
      "text/latex": [
       "\\begin{tabular}{r|llll}\n",
       " V1 & epsilon & response & group\\\\\n",
       "\\hline\n",
       "\t 3.588198   & -3.3733866 &  -7.549782 & 1         \\\\\n",
       "\t 8.094746   &  1.6755741 & -11.513918 & 2         \\\\\n",
       "\t 4.680792   &  0.3067462 &  -6.054838 & 1         \\\\\n",
       "\t 8.947157   & -2.2762739 & -17.170587 & 2         \\\\\n",
       "\t 9.464206   &  2.5076298 & -13.420781 & 2         \\\\\n",
       "\t 1.410008   &  0.8529284 &   1.032911 & 1         \\\\\n",
       "\\end{tabular}\n"
      ],
      "text/markdown": [
       "\n",
       "V1 | epsilon | response | group | \n",
       "|---|---|---|---|---|---|\n",
       "| 3.588198   | -3.3733866 |  -7.549782 | 1          | \n",
       "| 8.094746   |  1.6755741 | -11.513918 | 2          | \n",
       "| 4.680792   |  0.3067462 |  -6.054838 | 1          | \n",
       "| 8.947157   | -2.2762739 | -17.170587 | 2          | \n",
       "| 9.464206   |  2.5076298 | -13.420781 | 2          | \n",
       "| 1.410008   |  0.8529284 |   1.032911 | 1          | \n",
       "\n",
       "\n"
      ],
      "text/plain": [
       "  V1       epsilon    response   group\n",
       "1 3.588198 -3.3733866  -7.549782 1    \n",
       "2 8.094746  1.6755741 -11.513918 2    \n",
       "3 4.680792  0.3067462  -6.054838 1    \n",
       "4 8.947157 -2.2762739 -17.170587 2    \n",
       "5 9.464206  2.5076298 -13.420781 2    \n",
       "6 1.410008  0.8529284   1.032911 1    "
      ]
     },
     "metadata": {},
     "output_type": "display_data"
    }
   ],
   "source": [
    "set.seed(123)\n",
    "df1 <- as.data.frame(matrix(runif(1*50, min = 1, max = 10), ncol = 1)) %>%\n",
    "    mutate(epsilon = rnorm(50, mean = 0, sd = 2)) %>%\n",
    "    mutate(response = 3 - 2* V1  + epsilon) %>%\n",
    "    mutate(group = ifelse(V1 <= 5, 1,2))\n",
    "head(df1)"
   ]
  },
  {
   "cell_type": "markdown",
   "metadata": {},
   "source": [
    "## Asignment 1a\n",
    "\n",
    "The first assigment is to make boxplot using ggplot with group on the x-axis and V1 on the y-axis."
   ]
  },
  {
   "cell_type": "code",
   "execution_count": 6,
   "metadata": {
    "scrolled": true
   },
   "outputs": [
    {
     "data": {
      "image/png": "[encoded data removed]",
      "text/plain": [
       "plot without title"
      ]
     },
     "metadata": {},
     "output_type": "display_data"
    }
   ],
   "source": [
    "boxplot<- ggplot(data=df1, aes(x=group,y=V1))+geom_boxplot(aes(factor(group)))\n",
    "print(boxplot)"
   ]
  },
  {
   "cell_type": "markdown",
   "metadata": {},
   "source": [
    "With ggplot I made a boxplot containing the variables V1 and group. Before i could plot it, the group variable had to be changed to a factor."
   ]
  },
  {
   "cell_type": "markdown",
   "metadata": {},
   "source": [
    "## Assignment 1b\n",
    "\n",
    "Run a regression with response variable as a function of V1.\n",
    "Show the summary statistics of the regression.\n"
   ]
  },
  {
   "cell_type": "code",
   "execution_count": 7,
   "metadata": {
    "scrolled": true
   },
   "outputs": [
    {
     "data": {
      "text/plain": [
       "\n",
       "Call:\n",
       "lm(formula = V1 ~ response, data = df1)\n",
       "\n",
       "Residuals:\n",
       "     Min       1Q   Median       3Q      Max \n",
       "-2.38273 -0.50585 -0.04045  0.68125  1.80675 \n",
       "\n",
       "Coefficients:\n",
       "            Estimate Std. Error t value Pr(>|t|)    \n",
       "(Intercept)  1.88469    0.23964   7.865 3.53e-10 ***\n",
       "response    -0.46018    0.02437 -18.880  < 2e-16 ***\n",
       "---\n",
       "Signif. codes:  0 '***' 0.001 '**' 0.01 '*' 0.05 '.' 0.1 ' ' 1\n",
       "\n",
       "Residual standard error: 0.9219 on 48 degrees of freedom\n",
       "Multiple R-squared:  0.8813,\tAdjusted R-squared:  0.8788 \n",
       "F-statistic: 356.4 on 1 and 48 DF,  p-value: < 2.2e-16\n"
      ]
     },
     "metadata": {},
     "output_type": "display_data"
    }
   ],
   "source": [
    "reg1 <- lm(data=df1, V1~response) \n",
    "summary(reg1)"
   ]
  },
  {
   "cell_type": "markdown",
   "metadata": {},
   "source": [
    "With the lm function I created a regressing between the variables V1 and response. In the summary I got 3 stars, which means its is a good regression."
   ]
  },
  {
   "cell_type": "markdown",
   "metadata": {},
   "source": [
    "check if the assumptions of linear regression are met with the `gvlma()` function."
   ]
  },
  {
   "cell_type": "code",
   "execution_count": 8,
   "metadata": {},
   "outputs": [
    {
     "data": {
      "text/plain": [
       "\n",
       "Call:\n",
       "lm(formula = V1 ~ response, data = df1)\n",
       "\n",
       "Coefficients:\n",
       "(Intercept)     response  \n",
       "     1.8847      -0.4602  \n",
       "\n",
       "\n",
       "ASSESSMENT OF THE LINEAR MODEL ASSUMPTIONS\n",
       "USING THE GLOBAL TEST ON 4 DEGREES-OF-FREEDOM:\n",
       "Level of Significance =  0.05 \n",
       "\n",
       "Call:\n",
       " gvlma(x = reg1) \n",
       "\n",
       "                     Value p-value                Decision\n",
       "Global Stat        0.58710  0.9645 Assumptions acceptable.\n",
       "Skewness           0.14850  0.7000 Assumptions acceptable.\n",
       "Kurtosis           0.05172  0.8201 Assumptions acceptable.\n",
       "Link Function      0.24979  0.6172 Assumptions acceptable.\n",
       "Heteroscedasticity 0.13710  0.7112 Assumptions acceptable."
      ]
     },
     "metadata": {},
     "output_type": "display_data"
    }
   ],
   "source": [
    "gvlma(reg1)"
   ]
  },
  {
   "cell_type": "markdown",
   "metadata": {},
   "source": [
    "If all assumptions are acceptable, it means this is a very strong regression. In this case it is"
   ]
  },
  {
   "cell_type": "markdown",
   "metadata": {},
   "source": [
    "## Assignment 1c\n",
    "\n",
    "Make a scatterplot with: \n",
    "* V1 on the x-axis and the response on the y-axis\n",
    "* Include the regression line in red with confidence interval \n",
    "* In a classic theme\n",
    "* The x-axis should be labeled \"Predictor\", the y-axis should be labeled (\"Response\")\n",
    "\n"
   ]
  },
  {
   "cell_type": "code",
   "execution_count": 9,
   "metadata": {},
   "outputs": [
    {
     "data": {
      "image/png": "[encoded data removed]",
      "text/plain": [
       "plot without title"
      ]
     },
     "metadata": {},
     "output_type": "display_data"
    }
   ],
   "source": [
    "scatterplot<-ggplot(data=df1, aes(x=V1, y=response))+geom_point()+geom_smooth(method='lm', se= TRUE,color='red')+ theme_classic()+labs(x='Predictor',y='Response')\n",
    "print(scatterplot)"
   ]
  },
  {
   "cell_type": "markdown",
   "metadata": {},
   "source": [
    "With ggplot I plotted a scatterplot. In ggplot itself I put the data and the 2 axis. Geom_point is there to put out the different points and geom_smooth is there to plot the regression line. Inside of it I used the lm method to put a regression and I set se on TRUE to show a confidence interval. Then I added the theme classic."
   ]
  },
  {
   "cell_type": "markdown",
   "metadata": {},
   "source": [
    "# Assigment 2\n",
    "\n",
    "# Packages"
   ]
  },
  {
   "cell_type": "code",
   "execution_count": 24,
   "metadata": {},
   "outputs": [
    {
     "name": "stderr",
     "output_type": "stream",
     "text": [
      "Warning message:\n",
      "\"package 'maptools' is in use and will not be installed\"Warning message:\n",
      "\"package 'rgdal' is in use and will not be installed\"Warning message:\n",
      "\"package 'rgeos' is in use and will not be installed\""
     ]
    }
   ],
   "source": [
    "install.packages('maptools', repos='http://cran.us.r-project.org')\n",
    "install.packages('rgdal', repos='http://cran.us.r-project.org')\n",
    "install.packages('rgeos', repos='http://cran.us.r-project.org')\n",
    "install.packages(\"C:/Users/mrmbn_000/Documents/Package/thematicmaps_2.1.tar.gz\", repos = NULL, type = \"source\")\n",
    "library(thematicmaps)\n",
    "library(tidyverse)\n",
    "library(stringr)"
   ]
  },
  {
   "cell_type": "markdown",
   "metadata": {},
   "source": [
    "## Assignment 2a\n",
    "\n",
    "First you have to read in the file \"nld_municipal_map.csv\".\n",
    "Hint: Look at the notebook of week 6 about maps."
   ]
  },
  {
   "cell_type": "code",
   "execution_count": 25,
   "metadata": {
    "scrolled": true
   },
   "outputs": [
    {
     "data": {
      "text/html": [
       "<table>\n",
       "<thead><tr><th scope=col>name</th><th scope=col>id</th><th scope=col>x</th><th scope=col>y</th><th scope=col>order</th><th scope=col>hole</th><th scope=col>piece</th><th scope=col>group</th></tr></thead>\n",
       "<tbody>\n",
       "\t<tr><td>Appingedam      </td><td>0               </td><td>251260.527548325</td><td>594393.827234474</td><td>1               </td><td>FALSE           </td><td>1               </td><td>0.1             </td></tr>\n",
       "\t<tr><td>Appingedam      </td><td>0               </td><td>251427.775868901</td><td>594486.747111725</td><td>2               </td><td>FALSE           </td><td>1               </td><td>0.1             </td></tr>\n",
       "\t<tr><td>Appingedam      </td><td>0               </td><td>251668.842999999</td><td>594646.77       </td><td>3               </td><td>FALSE           </td><td>1               </td><td>0.1             </td></tr>\n",
       "\t<tr><td>Appingedam      </td><td>0               </td><td>251713.521000002</td><td>594770.885000002</td><td>4               </td><td>FALSE           </td><td>1               </td><td>0.1             </td></tr>\n",
       "\t<tr><td>Appingedam      </td><td>0               </td><td>251354.585000001</td><td>595461.381999999</td><td>5               </td><td>FALSE           </td><td>1               </td><td>0.1             </td></tr>\n",
       "\t<tr><td>Appingedam      </td><td>0               </td><td>251310.272      </td><td>596022.542      </td><td>6               </td><td>FALSE           </td><td>1               </td><td>0.1             </td></tr>\n",
       "</tbody>\n",
       "</table>\n"
      ],
      "text/latex": [
       "\\begin{tabular}{r|llllllll}\n",
       " name & id & x & y & order & hole & piece & group\\\\\n",
       "\\hline\n",
       "\t Appingedam       & 0                & 251260.527548325 & 594393.827234474 & 1                & FALSE            & 1                & 0.1             \\\\\n",
       "\t Appingedam       & 0                & 251427.775868901 & 594486.747111725 & 2                & FALSE            & 1                & 0.1             \\\\\n",
       "\t Appingedam       & 0                & 251668.842999999 & 594646.77        & 3                & FALSE            & 1                & 0.1             \\\\\n",
       "\t Appingedam       & 0                & 251713.521000002 & 594770.885000002 & 4                & FALSE            & 1                & 0.1             \\\\\n",
       "\t Appingedam       & 0                & 251354.585000001 & 595461.381999999 & 5                & FALSE            & 1                & 0.1             \\\\\n",
       "\t Appingedam       & 0                & 251310.272       & 596022.542       & 6                & FALSE            & 1                & 0.1             \\\\\n",
       "\\end{tabular}\n"
      ],
      "text/markdown": [
       "\n",
       "name | id | x | y | order | hole | piece | group | \n",
       "|---|---|---|---|---|---|\n",
       "| Appingedam       | 0                | 251260.527548325 | 594393.827234474 | 1                | FALSE            | 1                | 0.1              | \n",
       "| Appingedam       | 0                | 251427.775868901 | 594486.747111725 | 2                | FALSE            | 1                | 0.1              | \n",
       "| Appingedam       | 0                | 251668.842999999 | 594646.77        | 3                | FALSE            | 1                | 0.1              | \n",
       "| Appingedam       | 0                | 251713.521000002 | 594770.885000002 | 4                | FALSE            | 1                | 0.1              | \n",
       "| Appingedam       | 0                | 251354.585000001 | 595461.381999999 | 5                | FALSE            | 1                | 0.1              | \n",
       "| Appingedam       | 0                | 251310.272       | 596022.542       | 6                | FALSE            | 1                | 0.1              | \n",
       "\n",
       "\n"
      ],
      "text/plain": [
       "  name       id x                y                order hole  piece group\n",
       "1 Appingedam 0  251260.527548325 594393.827234474 1     FALSE 1     0.1  \n",
       "2 Appingedam 0  251427.775868901 594486.747111725 2     FALSE 1     0.1  \n",
       "3 Appingedam 0  251668.842999999 594646.77        3     FALSE 1     0.1  \n",
       "4 Appingedam 0  251713.521000002 594770.885000002 4     FALSE 1     0.1  \n",
       "5 Appingedam 0  251354.585000001 595461.381999999 5     FALSE 1     0.1  \n",
       "6 Appingedam 0  251310.272       596022.542       6     FALSE 1     0.1  "
      ]
     },
     "metadata": {},
     "output_type": "display_data"
    }
   ],
   "source": [
    "map_municipal <- read.csv2('C:/Users/mrmbn_000/Documents/Sourcedata/nld_municipal_map.csv')\n",
    "head(map_municipal)"
   ]
  },
  {
   "cell_type": "markdown",
   "metadata": {},
   "source": [
    "With read.csv2, I selected the csv file on my computer and I put it into a dataframe"
   ]
  },
  {
   "cell_type": "markdown",
   "metadata": {},
   "source": [
    "## Assignment 2b\n",
    "\n",
    "Now you can make an empty map of the Netherlands."
   ]
  },
  {
   "cell_type": "code",
   "execution_count": 28,
   "metadata": {
    "scrolled": true
   },
   "outputs": [
    {
     "data": {
      "image/png": "[encoded data removed]",
      "text/plain": [
       "plot without title"
      ]
     },
     "metadata": {},
     "output_type": "display_data"
    }
   ],
   "source": [
    "NL_map<- AddMapLayer(MapPlot(), map_municipal)\n",
    "print(NL_map)"
   ]
  },
  {
   "cell_type": "markdown",
   "metadata": {},
   "source": [
    "With AddMapLayer, I made a map of the Netherlands, by using the data in the past excercise and the function MapPlot. I know that in this notebook, the file doesn't show the Netherlands correcetly, but I had no time to correct it."
   ]
  },
  {
   "cell_type": "markdown",
   "metadata": {},
   "source": [
    "## Assignment 2c\n",
    "\n",
    "Read in the pc4 locations (nld_pc4_locations.csv).\n",
    "\n",
    "Hint: Don't forget the X and Y should be numeric variables!"
   ]
  },
  {
   "cell_type": "code",
   "execution_count": 29,
   "metadata": {},
   "outputs": [
    {
     "name": "stdout",
     "output_type": "stream",
     "text": [
      "'data.frame':\t4066 obs. of  3 variables:\n",
      " $ PC4: int  1011 1012 1013 1014 1015 1016 1017 1018 1019 1021 ...\n",
      " $ X  : num  122244 121613 120325 119515 120740 ...\n",
      " $ Y  : num  487223 487555 489672 489422 488009 ...\n"
     ]
    }
   ],
   "source": [
    "pc4_locations <- read.csv2(\"C:/Users/mrmbn_000/Documents/Sourcedata/nld_pc4_locations.csv\")%>%\n",
    "mutate(X = as.numeric(as.character(X))) %>%\n",
    "mutate(Y = as.numeric(as.character(Y)))\n",
    "\n",
    "str(pc4_locations)"
   ]
  },
  {
   "cell_type": "markdown",
   "metadata": {},
   "source": [
    "With read.csv2 I selected another file on my computer. With mutate, I changed the dataframe by changing the X and Y variable into numeric characters."
   ]
  },
  {
   "cell_type": "markdown",
   "metadata": {},
   "source": [
    "## Assignment 2d\n",
    "\n",
    "### 2di\n",
    "\n",
    "Read in the school data\n"
   ]
  },
  {
   "cell_type": "code",
   "execution_count": 30,
   "metadata": {
    "scrolled": true
   },
   "outputs": [
    {
     "data": {
      "text/html": [
       "<table>\n",
       "<thead><tr><th scope=col>PROVINCIE</th><th scope=col>BEVOEGD.GEZAG.NUMMER</th><th scope=col>BRIN.NUMMER</th><th scope=col>VESTIGINGSNUMMER</th><th scope=col>VESTIGINGSNAAM</th><th scope=col>STRAATNAAM</th><th scope=col>HUISNUMMER.TOEVOEGING</th><th scope=col>POSTCODE</th><th scope=col>PLAATSNAAM</th><th scope=col>GEMEENTENUMMER</th><th scope=col>...</th><th scope=col>RPA.GEBIED.CODE</th><th scope=col>RPA.GEBIED.NAAM</th><th scope=col>WGR.GEBIED.CODE</th><th scope=col>WGR.GEBIED.NAAM</th><th scope=col>COROPGEBIED.CODE</th><th scope=col>COROPGEBIED.NAAM</th><th scope=col>ONDERWIJSGEBIED.CODE</th><th scope=col>ONDERWIJSGEBIED.NAAM</th><th scope=col>RMC.REGIO.CODE</th><th scope=col>RMC.REGIO.NAAM</th></tr></thead>\n",
       "<tbody>\n",
       "\t<tr><td>                                                                         </td><td>41152                                                                    </td><td>23HC                                                                     </td><td>23HC04                                                                   </td><td>RSG Lingecollege                                                         </td><td>                                                                         </td><td>                                                                         </td><td>                                                                         </td><td>                                                                         </td><td>  NA                                                                     </td><td>...                                                                      </td><td>NA                                                                       </td><td>                                                                         </td><td>NA                                                                       </td><td>                                                                         </td><td>NA                                                                       </td><td>                                                                         </td><td>NA                                                                       </td><td>                                                                         </td><td>NA                                                                       </td><td>                                                                         </td></tr>\n",
       "\t<tr><td>Drenthe                                                                  </td><td>10053                                                                    </td><td>18BR                                                                     </td><td>18BR00                                                                   </td><td>School voor Praktijkonderwijs Assen                                      </td><td>Zwartwatersweg                                                           </td><td>202                                                                      </td><td>9406 NN                                                                  </td><td>ASSEN                                                                    </td><td> 106                                                                     </td><td>...                                                                      </td><td> 3                                                                       </td><td>Centraal-Groningen                                                       </td><td> 7                                                                       </td><td>Noord- en Midden-Drenthe                                                 </td><td> 7                                                                       </td><td>Noord-Drenthe                                                            </td><td> 4                                                                       </td><td>Assen-Hoogeveen-Emmen                                                    </td><td> 7                                                                       </td><td>Noord- en Midden Drenthe                                                 </td></tr>\n",
       "\t<tr><td>Drenthe                                                                  </td><td>10053                                                                    </td><td>18BR                                                                     </td><td>18BR01                                                                   </td><td>School voor Praktijkonderwijs Assen                                      </td><td>Bosrand                                                                  </td><td>2                                                                        </td><td>9401 SL                                                                  </td><td>ASSEN                                                                    </td><td> 106                                                                     </td><td>...                                                                      </td><td> 3                                                                       </td><td>Centraal-Groningen                                                       </td><td> 7                                                                       </td><td>Noord- en Midden-Drenthe                                                 </td><td> 7                                                                       </td><td>Noord-Drenthe                                                            </td><td> 4                                                                       </td><td>Assen-Hoogeveen-Emmen                                                    </td><td> 7                                                                       </td><td>Noord- en Midden Drenthe                                                 </td></tr>\n",
       "\t<tr><td>Drenthe                                                                  </td><td>13273                                                                    </td><td>20LO                                                                     </td><td>20LO00                                                                   </td><td>Openbare Scholengemeenschap Dr Nassau College voor Vwo Havo Mavo Vbo Lwoo</td><td>Mr Groen v Prinstererln                                                  </td><td>98                                                                       </td><td>9402 KG                                                                  </td><td>ASSEN                                                                    </td><td> 106                                                                     </td><td>...                                                                      </td><td> 3                                                                       </td><td>Centraal-Groningen                                                       </td><td> 7                                                                       </td><td>Noord- en Midden-Drenthe                                                 </td><td> 7                                                                       </td><td>Noord-Drenthe                                                            </td><td> 4                                                                       </td><td>Assen-Hoogeveen-Emmen                                                    </td><td> 7                                                                       </td><td>Noord- en Midden Drenthe                                                 </td></tr>\n",
       "\t<tr><td>Drenthe                                                                  </td><td>13273                                                                    </td><td>20LO                                                                     </td><td>20LO01                                                                   </td><td>Openbare Scholengemeenschap Dr Nassau College voor Vwo Havo Mavo Vbo Lwoo</td><td>Schoolstraat                                                             </td><td>1                                                                        </td><td>9331 AV                                                                  </td><td>NORG                                                                     </td><td>1699                                                                     </td><td>...                                                                      </td><td> 3                                                                       </td><td>Centraal-Groningen                                                       </td><td> 7                                                                       </td><td>Noord- en Midden-Drenthe                                                 </td><td> 7                                                                       </td><td>Noord-Drenthe                                                            </td><td> 1                                                                       </td><td>Groningen en omstreken                                                   </td><td> 7                                                                       </td><td>Noord- en Midden Drenthe                                                 </td></tr>\n",
       "\t<tr><td>Drenthe                                                                  </td><td>13273                                                                    </td><td>20LO                                                                     </td><td>20LO02                                                                   </td><td>Openbare Scholengemeenschap Dr Nassau College voor Vwo Havo Mavo Vbo Lwoo</td><td>Esdoornlaan                                                              </td><td>2                                                                        </td><td>9411 AV                                                                  </td><td>BEILEN                                                                   </td><td>1731                                                                     </td><td>...                                                                      </td><td> 5                                                                       </td><td>Zuid- en Midden-Drenthe                                                  </td><td> 7                                                                       </td><td>Noord- en Midden-Drenthe                                                 </td><td> 7                                                                       </td><td>Noord-Drenthe                                                            </td><td> 4                                                                       </td><td>Assen-Hoogeveen-Emmen                                                    </td><td> 7                                                                       </td><td>Noord- en Midden Drenthe                                                 </td></tr>\n",
       "</tbody>\n",
       "</table>\n"
      ],
      "text/latex": [
       "\\begin{tabular}{r|lllllllllllllllllllllllllllllll}\n",
       " PROVINCIE & BEVOEGD.GEZAG.NUMMER & BRIN.NUMMER & VESTIGINGSNUMMER & VESTIGINGSNAAM & STRAATNAAM & HUISNUMMER.TOEVOEGING & POSTCODE & PLAATSNAAM & GEMEENTENUMMER & ... & RPA.GEBIED.CODE & RPA.GEBIED.NAAM & WGR.GEBIED.CODE & WGR.GEBIED.NAAM & COROPGEBIED.CODE & COROPGEBIED.NAAM & ONDERWIJSGEBIED.CODE & ONDERWIJSGEBIED.NAAM & RMC.REGIO.CODE & RMC.REGIO.NAAM\\\\\n",
       "\\hline\n",
       "\t                                                                           & 41152                                                                     & 23HC                                                                      & 23HC04                                                                    & RSG Lingecollege                                                          &                                                                           &                                                                           &                                                                           &                                                                           &   NA                                                                      & ...                                                                       & NA                                                                        &                                                                           & NA                                                                        &                                                                           & NA                                                                        &                                                                           & NA                                                                        &                                                                           & NA                                                                        &                                                                          \\\\\n",
       "\t Drenthe                                                                   & 10053                                                                     & 18BR                                                                      & 18BR00                                                                    & School voor Praktijkonderwijs Assen                                       & Zwartwatersweg                                                            & 202                                                                       & 9406 NN                                                                   & ASSEN                                                                     &  106                                                                      & ...                                                                       &  3                                                                        & Centraal-Groningen                                                        &  7                                                                        & Noord- en Midden-Drenthe                                                  &  7                                                                        & Noord-Drenthe                                                             &  4                                                                        & Assen-Hoogeveen-Emmen                                                     &  7                                                                        & Noord- en Midden Drenthe                                                 \\\\\n",
       "\t Drenthe                                                                   & 10053                                                                     & 18BR                                                                      & 18BR01                                                                    & School voor Praktijkonderwijs Assen                                       & Bosrand                                                                   & 2                                                                         & 9401 SL                                                                   & ASSEN                                                                     &  106                                                                      & ...                                                                       &  3                                                                        & Centraal-Groningen                                                        &  7                                                                        & Noord- en Midden-Drenthe                                                  &  7                                                                        & Noord-Drenthe                                                             &  4                                                                        & Assen-Hoogeveen-Emmen                                                     &  7                                                                        & Noord- en Midden Drenthe                                                 \\\\\n",
       "\t Drenthe                                                                   & 13273                                                                     & 20LO                                                                      & 20LO00                                                                    & Openbare Scholengemeenschap Dr Nassau College voor Vwo Havo Mavo Vbo Lwoo & Mr Groen v Prinstererln                                                   & 98                                                                        & 9402 KG                                                                   & ASSEN                                                                     &  106                                                                      & ...                                                                       &  3                                                                        & Centraal-Groningen                                                        &  7                                                                        & Noord- en Midden-Drenthe                                                  &  7                                                                        & Noord-Drenthe                                                             &  4                                                                        & Assen-Hoogeveen-Emmen                                                     &  7                                                                        & Noord- en Midden Drenthe                                                 \\\\\n",
       "\t Drenthe                                                                   & 13273                                                                     & 20LO                                                                      & 20LO01                                                                    & Openbare Scholengemeenschap Dr Nassau College voor Vwo Havo Mavo Vbo Lwoo & Schoolstraat                                                              & 1                                                                         & 9331 AV                                                                   & NORG                                                                      & 1699                                                                      & ...                                                                       &  3                                                                        & Centraal-Groningen                                                        &  7                                                                        & Noord- en Midden-Drenthe                                                  &  7                                                                        & Noord-Drenthe                                                             &  1                                                                        & Groningen en omstreken                                                    &  7                                                                        & Noord- en Midden Drenthe                                                 \\\\\n",
       "\t Drenthe                                                                   & 13273                                                                     & 20LO                                                                      & 20LO02                                                                    & Openbare Scholengemeenschap Dr Nassau College voor Vwo Havo Mavo Vbo Lwoo & Esdoornlaan                                                               & 2                                                                         & 9411 AV                                                                   & BEILEN                                                                    & 1731                                                                      & ...                                                                       &  5                                                                        & Zuid- en Midden-Drenthe                                                   &  7                                                                        & Noord- en Midden-Drenthe                                                  &  7                                                                        & Noord-Drenthe                                                             &  4                                                                        & Assen-Hoogeveen-Emmen                                                     &  7                                                                        & Noord- en Midden Drenthe                                                 \\\\\n",
       "\\end{tabular}\n"
      ],
      "text/markdown": [
       "\n",
       "PROVINCIE | BEVOEGD.GEZAG.NUMMER | BRIN.NUMMER | VESTIGINGSNUMMER | VESTIGINGSNAAM | STRAATNAAM | HUISNUMMER.TOEVOEGING | POSTCODE | PLAATSNAAM | GEMEENTENUMMER | ... | RPA.GEBIED.CODE | RPA.GEBIED.NAAM | WGR.GEBIED.CODE | WGR.GEBIED.NAAM | COROPGEBIED.CODE | COROPGEBIED.NAAM | ONDERWIJSGEBIED.CODE | ONDERWIJSGEBIED.NAAM | RMC.REGIO.CODE | RMC.REGIO.NAAM | \n",
       "|---|---|---|---|---|---|\n",
       "|                                                                           | 41152                                                                     | 23HC                                                                      | 23HC04                                                                    | RSG Lingecollege                                                          |                                                                           |                                                                           |                                                                           |                                                                           |   NA                                                                      | ...                                                                       | NA                                                                        |                                                                           | NA                                                                        |                                                                           | NA                                                                        |                                                                           | NA                                                                        |                                                                           | NA                                                                        |                                                                           | \n",
       "| Drenthe                                                                   | 10053                                                                     | 18BR                                                                      | 18BR00                                                                    | School voor Praktijkonderwijs Assen                                       | Zwartwatersweg                                                            | 202                                                                       | 9406 NN                                                                   | ASSEN                                                                     |  106                                                                      | ...                                                                       |  3                                                                        | Centraal-Groningen                                                        |  7                                                                        | Noord- en Midden-Drenthe                                                  |  7                                                                        | Noord-Drenthe                                                             |  4                                                                        | Assen-Hoogeveen-Emmen                                                     |  7                                                                        | Noord- en Midden Drenthe                                                  | \n",
       "| Drenthe                                                                   | 10053                                                                     | 18BR                                                                      | 18BR01                                                                    | School voor Praktijkonderwijs Assen                                       | Bosrand                                                                   | 2                                                                         | 9401 SL                                                                   | ASSEN                                                                     |  106                                                                      | ...                                                                       |  3                                                                        | Centraal-Groningen                                                        |  7                                                                        | Noord- en Midden-Drenthe                                                  |  7                                                                        | Noord-Drenthe                                                             |  4                                                                        | Assen-Hoogeveen-Emmen                                                     |  7                                                                        | Noord- en Midden Drenthe                                                  | \n",
       "| Drenthe                                                                   | 13273                                                                     | 20LO                                                                      | 20LO00                                                                    | Openbare Scholengemeenschap Dr Nassau College voor Vwo Havo Mavo Vbo Lwoo | Mr Groen v Prinstererln                                                   | 98                                                                        | 9402 KG                                                                   | ASSEN                                                                     |  106                                                                      | ...                                                                       |  3                                                                        | Centraal-Groningen                                                        |  7                                                                        | Noord- en Midden-Drenthe                                                  |  7                                                                        | Noord-Drenthe                                                             |  4                                                                        | Assen-Hoogeveen-Emmen                                                     |  7                                                                        | Noord- en Midden Drenthe                                                  | \n",
       "| Drenthe                                                                   | 13273                                                                     | 20LO                                                                      | 20LO01                                                                    | Openbare Scholengemeenschap Dr Nassau College voor Vwo Havo Mavo Vbo Lwoo | Schoolstraat                                                              | 1                                                                         | 9331 AV                                                                   | NORG                                                                      | 1699                                                                      | ...                                                                       |  3                                                                        | Centraal-Groningen                                                        |  7                                                                        | Noord- en Midden-Drenthe                                                  |  7                                                                        | Noord-Drenthe                                                             |  1                                                                        | Groningen en omstreken                                                    |  7                                                                        | Noord- en Midden Drenthe                                                  | \n",
       "| Drenthe                                                                   | 13273                                                                     | 20LO                                                                      | 20LO02                                                                    | Openbare Scholengemeenschap Dr Nassau College voor Vwo Havo Mavo Vbo Lwoo | Esdoornlaan                                                               | 2                                                                         | 9411 AV                                                                   | BEILEN                                                                    | 1731                                                                      | ...                                                                       |  5                                                                        | Zuid- en Midden-Drenthe                                                   |  7                                                                        | Noord- en Midden-Drenthe                                                  |  7                                                                        | Noord-Drenthe                                                             |  4                                                                        | Assen-Hoogeveen-Emmen                                                     |  7                                                                        | Noord- en Midden Drenthe                                                  | \n",
       "\n",
       "\n"
      ],
      "text/plain": [
       "  PROVINCIE            BEVOEGD.GEZAG.NUMMER BRIN.NUMMER VESTIGINGSNUMMER\n",
       "1                      41152                23HC        23HC04          \n",
       "2 Drenthe              10053                18BR        18BR00          \n",
       "3 Drenthe              10053                18BR        18BR01          \n",
       "4 Drenthe              13273                20LO        20LO00          \n",
       "5 Drenthe              13273                20LO        20LO01          \n",
       "6 Drenthe              13273                20LO        20LO02          \n",
       "  VESTIGINGSNAAM                                                           \n",
       "1 RSG Lingecollege                                                         \n",
       "2 School voor Praktijkonderwijs Assen                                      \n",
       "3 School voor Praktijkonderwijs Assen                                      \n",
       "4 Openbare Scholengemeenschap Dr Nassau College voor Vwo Havo Mavo Vbo Lwoo\n",
       "5 Openbare Scholengemeenschap Dr Nassau College voor Vwo Havo Mavo Vbo Lwoo\n",
       "6 Openbare Scholengemeenschap Dr Nassau College voor Vwo Havo Mavo Vbo Lwoo\n",
       "  STRAATNAAM               HUISNUMMER.TOEVOEGING POSTCODE\n",
       "1                                                        \n",
       "2 Zwartwatersweg           202                   9406 NN \n",
       "3 Bosrand                  2                     9401 SL \n",
       "4 Mr Groen v Prinstererln  98                    9402 KG \n",
       "5 Schoolstraat             1                     9331 AV \n",
       "6 Esdoornlaan              2                     9411 AV \n",
       "  PLAATSNAAM               GEMEENTENUMMER ... RPA.GEBIED.CODE\n",
       "1                            NA           ... NA             \n",
       "2 ASSEN                     106           ...  3             \n",
       "3 ASSEN                     106           ...  3             \n",
       "4 ASSEN                     106           ...  3             \n",
       "5 NORG                     1699           ...  3             \n",
       "6 BEILEN                   1731           ...  5             \n",
       "  RPA.GEBIED.NAAM          WGR.GEBIED.CODE\n",
       "1                          NA             \n",
       "2 Centraal-Groningen        7             \n",
       "3 Centraal-Groningen        7             \n",
       "4 Centraal-Groningen        7             \n",
       "5 Centraal-Groningen        7             \n",
       "6 Zuid- en Midden-Drenthe   7             \n",
       "  WGR.GEBIED.NAAM                         COROPGEBIED.CODE\n",
       "1                                         NA              \n",
       "2 Noord- en Midden-Drenthe                 7              \n",
       "3 Noord- en Midden-Drenthe                 7              \n",
       "4 Noord- en Midden-Drenthe                 7              \n",
       "5 Noord- en Midden-Drenthe                 7              \n",
       "6 Noord- en Midden-Drenthe                 7              \n",
       "  COROPGEBIED.NAAM                    ONDERWIJSGEBIED.CODE\n",
       "1                                     NA                  \n",
       "2 Noord-Drenthe                        4                  \n",
       "3 Noord-Drenthe                        4                  \n",
       "4 Noord-Drenthe                        4                  \n",
       "5 Noord-Drenthe                        1                  \n",
       "6 Noord-Drenthe                        4                  \n",
       "  ONDERWIJSGEBIED.NAAM             RMC.REGIO.CODE\n",
       "1                                  NA            \n",
       "2 Assen-Hoogeveen-Emmen             7            \n",
       "3 Assen-Hoogeveen-Emmen             7            \n",
       "4 Assen-Hoogeveen-Emmen             7            \n",
       "5 Groningen en omstreken            7            \n",
       "6 Assen-Hoogeveen-Emmen             7            \n",
       "  RMC.REGIO.NAAM                          \n",
       "1                                         \n",
       "2 Noord- en Midden Drenthe                \n",
       "3 Noord- en Midden Drenthe                \n",
       "4 Noord- en Midden Drenthe                \n",
       "5 Noord- en Midden Drenthe                \n",
       "6 Noord- en Midden Drenthe                "
      ]
     },
     "metadata": {},
     "output_type": "display_data"
    }
   ],
   "source": [
    "schools <- read.csv2('C:/Users/mrmbn_000/Documents/Sourcedata/schools.csv')\n",
    "head(schools)"
   ]
  },
  {
   "cell_type": "markdown",
   "metadata": {},
   "source": [
    "Again, wiht read.csv2 I selected this dataframe on my computer."
   ]
  },
  {
   "cell_type": "markdown",
   "metadata": {},
   "source": [
    "### 2dii\n",
    "\n",
    "First, create a new dataframe schools1, which is equal to schools.\n",
    "\n",
    "As you see POSTCODE has a structure of (1234 AB). You should create a new variable PC4 that is equal to the first 4 numbers in POSTCODE\n",
    "\n",
    "Hint: Use the function `substr()`\n",
    "\n",
    "Then select the variables PC4 and DENOMINATIE"
   ]
  },
  {
   "cell_type": "code",
   "execution_count": 31,
   "metadata": {
    "scrolled": true
   },
   "outputs": [
    {
     "data": {
      "text/html": [
       "<table>\n",
       "<thead><tr><th scope=col>DENOMINATIE</th><th scope=col>PC4</th></tr></thead>\n",
       "<tbody>\n",
       "\t<tr><td>Openbaar</td><td>        </td></tr>\n",
       "\t<tr><td>Openbaar</td><td>9406    </td></tr>\n",
       "\t<tr><td>Openbaar</td><td>9401    </td></tr>\n",
       "\t<tr><td>Openbaar</td><td>9402    </td></tr>\n",
       "\t<tr><td>Openbaar</td><td>9331    </td></tr>\n",
       "\t<tr><td>Openbaar</td><td>9411    </td></tr>\n",
       "</tbody>\n",
       "</table>\n"
      ],
      "text/latex": [
       "\\begin{tabular}{r|ll}\n",
       " DENOMINATIE & PC4\\\\\n",
       "\\hline\n",
       "\t Openbaar &         \\\\\n",
       "\t Openbaar & 9406    \\\\\n",
       "\t Openbaar & 9401    \\\\\n",
       "\t Openbaar & 9402    \\\\\n",
       "\t Openbaar & 9331    \\\\\n",
       "\t Openbaar & 9411    \\\\\n",
       "\\end{tabular}\n"
      ],
      "text/markdown": [
       "\n",
       "DENOMINATIE | PC4 | \n",
       "|---|---|---|---|---|---|\n",
       "| Openbaar |          | \n",
       "| Openbaar | 9406     | \n",
       "| Openbaar | 9401     | \n",
       "| Openbaar | 9402     | \n",
       "| Openbaar | 9331     | \n",
       "| Openbaar | 9411     | \n",
       "\n",
       "\n"
      ],
      "text/plain": [
       "  DENOMINATIE PC4 \n",
       "1 Openbaar        \n",
       "2 Openbaar    9406\n",
       "3 Openbaar    9401\n",
       "4 Openbaar    9402\n",
       "5 Openbaar    9331\n",
       "6 Openbaar    9411"
      ]
     },
     "metadata": {},
     "output_type": "display_data"
    }
   ],
   "source": [
    "schools1 <- schools %>% mutate(PC4 =substr(POSTCODE,1,4))\n",
    "schools1<-schools1[c('DENOMINATIE','PC4')]\n",
    "head(schools1)"
   ]
  },
  {
   "cell_type": "markdown",
   "metadata": {},
   "source": [
    "With mutate, I added another column containing only the first numbers of the area code by using substract. Then I changed the dataframe into 2 columns with PC4 and DENOMINATIE."
   ]
  },
  {
   "cell_type": "markdown",
   "metadata": {},
   "source": [
    "### 2diii\n",
    "\n",
    "Create the dataframe school_loc as a join from pc4_locations and school1 that combines the columns from both data frames, but only keeps rows where the value in the pc4_locations column matches in both data frames.\n",
    "And then select the observations with DENOMINATIE is equal to \"Rooms-Katholiek\" or \"Protestants-Christelijk\""
   ]
  },
  {
   "cell_type": "code",
   "execution_count": 32,
   "metadata": {},
   "outputs": [
    {
     "data": {
      "text/html": [
       "<table>\n",
       "<thead><tr><th></th><th scope=col>PC4</th><th scope=col>DENOMINATIE</th><th scope=col>X</th><th scope=col>Y</th></tr></thead>\n",
       "<tbody>\n",
       "\t<tr><th scope=row>29</th><td>1065                   </td><td>Protestants-Christelijk</td><td>116701.2               </td><td>485645.8               </td></tr>\n",
       "\t<tr><th scope=row>38</th><td>1071                   </td><td>Rooms-Katholiek        </td><td>120223.0               </td><td>485571.3               </td></tr>\n",
       "\t<tr><th scope=row>50</th><td>1077                   </td><td>Protestants-Christelijk</td><td>120152.7               </td><td>484262.8               </td></tr>\n",
       "\t<tr><th scope=row>51</th><td>1077                   </td><td>Rooms-Katholiek        </td><td>120152.7               </td><td>484262.8               </td></tr>\n",
       "\t<tr><th scope=row>57</th><td>1081                   </td><td>Protestants-Christelijk</td><td>118277.6               </td><td>482449.5               </td></tr>\n",
       "\t<tr><th scope=row>80</th><td>1132                   </td><td>Rooms-Katholiek        </td><td>132947.2               </td><td>501873.0               </td></tr>\n",
       "</tbody>\n",
       "</table>\n"
      ],
      "text/latex": [
       "\\begin{tabular}{r|llll}\n",
       "  & PC4 & DENOMINATIE & X & Y\\\\\n",
       "\\hline\n",
       "\t29 & 1065                    & Protestants-Christelijk & 116701.2                & 485645.8               \\\\\n",
       "\t38 & 1071                    & Rooms-Katholiek         & 120223.0                & 485571.3               \\\\\n",
       "\t50 & 1077                    & Protestants-Christelijk & 120152.7                & 484262.8               \\\\\n",
       "\t51 & 1077                    & Rooms-Katholiek         & 120152.7                & 484262.8               \\\\\n",
       "\t57 & 1081                    & Protestants-Christelijk & 118277.6                & 482449.5               \\\\\n",
       "\t80 & 1132                    & Rooms-Katholiek         & 132947.2                & 501873.0               \\\\\n",
       "\\end{tabular}\n"
      ],
      "text/markdown": [
       "\n",
       "| <!--/--> | PC4 | DENOMINATIE | X | Y | \n",
       "|---|---|---|---|---|---|\n",
       "| 29 | 1065                    | Protestants-Christelijk | 116701.2                | 485645.8                | \n",
       "| 38 | 1071                    | Rooms-Katholiek         | 120223.0                | 485571.3                | \n",
       "| 50 | 1077                    | Protestants-Christelijk | 120152.7                | 484262.8                | \n",
       "| 51 | 1077                    | Rooms-Katholiek         | 120152.7                | 484262.8                | \n",
       "| 57 | 1081                    | Protestants-Christelijk | 118277.6                | 482449.5                | \n",
       "| 80 | 1132                    | Rooms-Katholiek         | 132947.2                | 501873.0                | \n",
       "\n",
       "\n"
      ],
      "text/plain": [
       "   PC4  DENOMINATIE             X        Y       \n",
       "29 1065 Protestants-Christelijk 116701.2 485645.8\n",
       "38 1071 Rooms-Katholiek         120223.0 485571.3\n",
       "50 1077 Protestants-Christelijk 120152.7 484262.8\n",
       "51 1077 Rooms-Katholiek         120152.7 484262.8\n",
       "57 1081 Protestants-Christelijk 118277.6 482449.5\n",
       "80 1132 Rooms-Katholiek         132947.2 501873.0"
      ]
     },
     "metadata": {},
     "output_type": "display_data"
    }
   ],
   "source": [
    "school_loc <-merge(schools1,pc4_locations,by='PC4')\n",
    "school_loc<- subset(school_loc, DENOMINATIE=='Rooms-Katholiek'|DENOMINATIE==\"Protestants-Christelijk\")\n",
    "\n",
    "head(school_loc)"
   ]
  },
  {
   "cell_type": "markdown",
   "metadata": {},
   "source": [
    "First, I merged schools1 and pc4_locations together by the first four numbers, Then I subsetted the dataframe where it only shows the schools that are \"Rooms-Katholiek\" or \"Protestants-Christelijk\"."
   ]
  },
  {
   "cell_type": "markdown",
   "metadata": {},
   "source": [
    "## Assignment 2e\n",
    "\n",
    "Create a map of Catholic and Protestant schools in the Netherlands\n"
   ]
  },
  {
   "cell_type": "code",
   "execution_count": 34,
   "metadata": {
    "scrolled": true
   },
   "outputs": [
    {
     "data": {},
     "metadata": {},
     "output_type": "display_data"
    },
    {
     "data": {
      "image/png": "[encoded data removed]",
      "text/plain": [
       "plot without title"
      ]
     },
     "metadata": {},
     "output_type": "display_data"
    }
   ],
   "source": [
    "NL_map%>% AddPointsLayer(school_loc, columnNameColor='DENOMINATIE')"
   ]
  },
  {
   "cell_type": "markdown",
   "metadata": {},
   "source": [
    "Firts I added a points layer with the different schools, then I changed the color of the 2 different schools."
   ]
  },
  {
   "cell_type": "markdown",
   "metadata": {},
   "source": [
    "End of notebook"
   ]
  }
 ],
 "metadata": {
  "anaconda-cloud": {},
  "kernelspec": {
   "display_name": "R",
   "language": "R",
   "name": "ir"
  },
  "language_info": {
   "codemirror_mode": "r",
   "file_extension": ".r",
   "mimetype": "text/x-r-source",
   "name": "R",
   "pygments_lexer": "r",
   "version": "3.4.3"
  }
 },
 "nbformat": 4,
 "nbformat_minor": 1
}
